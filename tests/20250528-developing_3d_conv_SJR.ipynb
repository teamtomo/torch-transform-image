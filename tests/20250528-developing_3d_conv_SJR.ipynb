{
 "cells": [
  {
   "cell_type": "code",
   "execution_count": 25,
   "id": "3ed59b27",
   "metadata": {},
   "outputs": [],
   "source": [
    "import torch\n",
    "import plotly.express as px\n",
    "import plotly.graph_objects as go\n",
    "from ipywidgets import interact, FloatSlider, IntSlider\n",
    "from torch_transform_image import (\n",
    "    affine_transform_image_2d, \n",
    "    affine_transform_image_3d, \n",
    "    rotate_then_shift_image_2d, \n",
    "    shift_then_rotate_image_2d, \n",
    "    rotate_then_shift_image_3d,\n",
    "    # shift_then_rotate_image_3d,\n",
    ")"
   ]
  },
  {
   "cell_type": "code",
   "execution_count": 2,
   "id": "9b38edb1",
   "metadata": {},
   "outputs": [],
   "source": [
    "def master_plot_function(\n",
    "        volume: torch.Tensor, \n",
    "        gray_min: float | None = None, \n",
    "        gray_max: float | None = None,\n",
    "        gray_mid: float | None = None,\n",
    "):\n",
    "    gray_min = volume.min().item() if gray_min is None else gray_min\n",
    "    gray_max = volume.max().item() if gray_max is None else gray_max\n",
    "    gray_mid = (gray_min + gray_max) / 2 if gray_mid is None else gray_mid\n",
    "\n",
    "    plane_min = 0\n",
    "    plane_max = volume.shape[2] - 1\n",
    "    plane_mid = int(plane_max / 2) \n",
    "\n",
    "    # Wrapped function that captures the volume tensor\n",
    "    def plot_wrapper(zmin, zplane):\n",
    "        fig = go.Figure(\n",
    "            data=go.Heatmap(\n",
    "                z=volume[:, :, zplane],\n",
    "                colorscale=\"viridis\",\n",
    "                zmin=zmin,\n",
    "                zmax=volume.max().item(),\n",
    "            )\n",
    "        )\n",
    "        fig.update_layout(\n",
    "            title=f\"Slice {zplane} with threshold zmin={zmin:.2f}\", width=800, height=600\n",
    "        )\n",
    "        return fig\n",
    "\n",
    "    interact(\n",
    "        plot_wrapper,\n",
    "        zmin=FloatSlider(\n",
    "            min=gray_min,\n",
    "            max=gray_max,\n",
    "            step=(gray_max - gray_min) / 100,\n",
    "            value=gray_mid,\n",
    "            description=\"Threshold:\",\n",
    "            continuous_update=True,\n",
    "        ),\n",
    "        zplane=IntSlider(\n",
    "            min=plane_min,\n",
    "            max=plane_max,\n",
    "            step=1,\n",
    "            value=plane_mid,\n",
    "            description=\"Plane:\",\n",
    "            continuous_update=True,\n",
    "        ),\n",
    "    )"
   ]
  },
  {
   "cell_type": "code",
   "execution_count": 3,
   "id": "cb23069d",
   "metadata": {},
   "outputs": [],
   "source": [
    "image = torch.zeros((28, 28, 28), dtype=torch.float32)\n",
    "image[18, 13, 13] = 1\n",
    "image = image.float()"
   ]
  },
  {
   "cell_type": "code",
   "execution_count": 4,
   "id": "275c243a",
   "metadata": {},
   "outputs": [
    {
     "name": "stdout",
     "output_type": "stream",
     "text": [
      "Location(s) of maximum value in result: [[18, 13, 13]]\n"
     ]
    },
    {
     "data": {
      "application/vnd.jupyter.widget-view+json": {
       "model_id": "90bb9257b1f449faa1aaf1ec19d70a59",
       "version_major": 2,
       "version_minor": 0
      },
      "text/plain": [
       "interactive(children=(FloatSlider(value=0.5, description='Threshold:', max=1.0, step=0.01), IntSlider(value=13…"
      ]
     },
     "metadata": {},
     "output_type": "display_data"
    }
   ],
   "source": [
    "max_idx = torch.nonzero(image == image.max())\n",
    "print(\"Location(s) of maximum value in result:\", max_idx.tolist())\n",
    "master_plot_function(image)"
   ]
  },
  {
   "cell_type": "code",
   "execution_count": 5,
   "id": "f3da4931",
   "metadata": {},
   "outputs": [
    {
     "name": "stdout",
     "output_type": "stream",
     "text": [
      "Location(s) of maximum value in result: [[19, 18, 18]]\n"
     ]
    },
    {
     "data": {
      "application/vnd.jupyter.widget-view+json": {
       "model_id": "e30b51b6de8d400cb2171d0d3ea7d717",
       "version_major": 2,
       "version_minor": 0
      },
      "text/plain": [
       "interactive(children=(FloatSlider(value=0.5, description='Threshold:', max=1.0, step=0.01), IntSlider(value=13…"
      ]
     },
     "metadata": {},
     "output_type": "display_data"
    }
   ],
   "source": [
    "result = rotate_then_shift_image_3d(\n",
    "    image=image,\n",
    "    rotate_zyx=[0, 0, 0],\n",
    "    shift_zyx=[1, 5, 5], # order is y, x, z\n",
    "    interpolation=\"trilinear\",\n",
    ")\n",
    "max_idx = torch.nonzero(result == result.max())\n",
    "print(\"Location(s) of maximum value in result:\", max_idx.tolist())\n",
    "master_plot_function(result)"
   ]
  },
  {
   "cell_type": "code",
   "execution_count": 24,
   "id": "fd6c8776",
   "metadata": {},
   "outputs": [
    {
     "name": "stdout",
     "output_type": "stream",
     "text": [
      "Location(s) of maximum value in result: [[18, 14, 13]]\n"
     ]
    },
    {
     "data": {
      "application/vnd.jupyter.widget-view+json": {
       "model_id": "78cf859b104a4ae48f76146e745c5d32",
       "version_major": 2,
       "version_minor": 0
      },
      "text/plain": [
       "interactive(children=(FloatSlider(value=0.0, description='Threshold:', max=1.5029011964797974, step=0.01502901…"
      ]
     },
     "metadata": {},
     "output_type": "display_data"
    }
   ],
   "source": [
    "accum = torch.zeros_like(image)\n",
    "for a in range(0,360,10):\n",
    "    result = rotate_then_shift_image_3d(\n",
    "        image=image,\n",
    "        rotate_zyx=[0, 0, a], # order is z, y, x\n",
    "        shift_zyx=[0, 0, 0], # order is y, x, z\n",
    "        interpolation=\"trilinear\",\n",
    "    )\n",
    "    accum += result\n",
    "max_idx = torch.nonzero(result == result.max())\n",
    "print(\"Location(s) of maximum value in result:\", max_idx.tolist())\n",
    "master_plot_function(accum, gray_mid=0)"
   ]
  },
  {
   "cell_type": "code",
   "execution_count": 7,
   "id": "dc01ce31",
   "metadata": {},
   "outputs": [],
   "source": [
    "from torch_affine_utils.transforms_3d import Rx, Ry, Rz, T"
   ]
  },
  {
   "cell_type": "code",
   "execution_count": 8,
   "id": "4deaaab6",
   "metadata": {},
   "outputs": [
    {
     "name": "stdout",
     "output_type": "stream",
     "text": [
      "tensor([[[ 0.9397, -0.3420,  0.0000,  0.0000],\n",
      "         [ 0.3420,  0.9397,  0.0000,  0.0000],\n",
      "         [ 0.0000,  0.0000,  1.0000,  0.0000],\n",
      "         [ 0.0000,  0.0000,  0.0000,  1.0000]]])\n"
     ]
    }
   ],
   "source": [
    "Rz_20 = Rz(20)\n",
    "print(Rz_20)"
   ]
  }
 ],
 "metadata": {
  "kernelspec": {
   "display_name": "teamtomodev",
   "language": "python",
   "name": "python3"
  },
  "language_info": {
   "codemirror_mode": {
    "name": "ipython",
    "version": 3
   },
   "file_extension": ".py",
   "mimetype": "text/x-python",
   "name": "python",
   "nbconvert_exporter": "python",
   "pygments_lexer": "ipython3",
   "version": "3.12.9"
  }
 },
 "nbformat": 4,
 "nbformat_minor": 5
}
